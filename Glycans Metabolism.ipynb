{
 "cells": [
  {
   "cell_type": "markdown",
   "id": "2ca9a447-d1a2-4521-8b25-b49a3bd0fc5d",
   "metadata": {},
   "source": [
    "**Purpose**\n",
    "\n",
    "The purpose of this notebook is to analyze *L. crispatus* genomes from NCBI in order to make a phylogentic tree of the strains and also to scan them for NanA, among other potentially interesting proteins."
   ]
  },
  {
   "cell_type": "code",
   "execution_count": 1,
   "id": "74ddb158-3d06-4224-a07c-3aab9d1272c3",
   "metadata": {
    "tags": []
   },
   "outputs": [],
   "source": [
    "from elliot_utils import *"
   ]
  },
  {
   "cell_type": "code",
   "execution_count": 2,
   "id": "fec2310e-5b86-4816-970f-36dfea25db76",
   "metadata": {
    "tags": []
   },
   "outputs": [],
   "source": [
    "analysisPath = Path.cwd().joinpath('analysis_files/glycans_metabolism/')"
   ]
  },
  {
   "cell_type": "code",
   "execution_count": 3,
   "id": "8f3a093a-e572-40dc-aba8-b49ba4960102",
   "metadata": {
    "tags": []
   },
   "outputs": [],
   "source": [
    "# object to store information on a strain of L. crispatus\n",
    "class Strain:\n",
    "    def __init__(self, csvRow):\n",
    "        self.name = csvRow['Organism Scientific Name']\n",
    "        self.id = csvRow['Strain']\n",
    "        self.accession = csvRow['Assembly Accession']\n",
    "        self.cpn60 = ''\n",
    "        self.source = csvRow['Source']\n",
    "        self.aaSeqs = set()\n",
    "\n",
    "# protein object for this data\n",
    "class GlycanAnalysisProtein:\n",
    "    def __init__(self, entry):\n",
    "        self.id = self.extractProteinID(entry)\n",
    "        self.taxa = set()\n",
    "        self.name = self.extractProteinName(entry)\n",
    "        self.sequence = entry[entry.find('\\n') + 1:].replace('\\n', '')\n",
    "\n",
    "    # This function takes a single protein entry from a .fasta file and returns the protein identifier for that entry.\n",
    "    def extractProteinID(self, entry):\n",
    "        stringEnd = entry.find(' ')\n",
    "        return entry[0:stringEnd]\n",
    "\n",
    "    # This function takes a single protein entry from a .fasta file and returns the protein identifier for that entry.\n",
    "    def extractProteinName(self, entry):\n",
    "        stringStart = entry.find(' ') + 1\n",
    "        stringEnd = entry.find(' [')\n",
    "        return entry[stringStart:stringEnd]\n",
    "    \n",
    "    # Adds the specified taxa name to this protein's list of taxa, assuming the new taxa is not already in it\n",
    "    def addTaxa(self, taxon):\n",
    "        self.taxa.add(taxon)\n",
    "    \n",
    "    # Get the fasta entry for this protein, including all taxa that encode it\n",
    "    def getEntry(self):\n",
    "        taxaList = []\n",
    "        for t in self.taxa:\n",
    "            taxaList.append(t)\n",
    "        taxaEntry = taxaList[0]\n",
    "        if len(taxaList) > 1:\n",
    "            for i in range(1, len(self.taxa)):\n",
    "                taxaEntry = f'{taxaEntry};{taxaList[i]}'\n",
    "        return f'>{self.id} {self.name} OS={taxaEntry}\\n{self.sequence}\\n'"
   ]
  },
  {
   "cell_type": "code",
   "execution_count": 4,
   "id": "ce8e1122-63ed-44a9-8114-357b99bac60c",
   "metadata": {
    "tags": []
   },
   "outputs": [],
   "source": [
    "# Returns the amino acid or nucleotide sequence from a fasta entry with no newline characters\n",
    "def extractSequence(fastaEntry):\n",
    "    return fastaEntry[fastaEntry.find('\\n') + 1:].replace('\\n', '')\n",
    "\n",
    "# Returns a list of fasta entries that can then be parsed\n",
    "def parseFasta(dbFile):\n",
    "    toReturn = []\n",
    "    with open(dbFile, 'r') as database:\n",
    "        rawText = database.read()\n",
    "        dataList = rawText.split('\\n>')\n",
    "        dataList[0] = dataList[0][1:]\n",
    "        del rawText\n",
    "        for sequence in dataList:\n",
    "            toReturn.append(sequence)\n",
    "    return toReturn\n",
    "\n",
    "# Returns a list containing the protein IDs of homologs in the given file. ID's must be in the second column of the file.\n",
    "def loadHomologs(homologsFile):\n",
    "    ids = []\n",
    "    with homologsFile.open(mode='r', encoding='utf-8-sig') as infile:\n",
    "        reader = csv.reader(infile)\n",
    "        for row in reader:\n",
    "            ids.append(row[1])\n",
    "    return ids\n",
    "\n",
    "# Takes in a dictionary in the format {'protName':[List of prot IDs]} and combines the proteins specified in listOldProts\n",
    "# under newProtName. Returns it as a new dictionary.\n",
    "def combineHomologs(homologDict, newProtName, listOldProts):\n",
    "    tempDict = {newProtName:[]} #key=protein name, value=list of homologous protein IDs\n",
    "    for protName, homologList in homologDict.items():\n",
    "        if not protName in listOldProts:\n",
    "            tempDict[protName] = homologList\n",
    "        else:\n",
    "            for homolog in homologList:\n",
    "                tempDict[newProtName].append(homolog)\n",
    "    return tempDict"
   ]
  },
  {
   "cell_type": "code",
   "execution_count": 5,
   "id": "6dc2e98b-b69c-476d-a467-a24a90446cf6",
   "metadata": {
    "tags": []
   },
   "outputs": [],
   "source": [
    "# Objects to record data for all species. These will be used to make a supplementary table containing the protein IDs for homologs of each protein for different isolates\n",
    "fullProtList = ['Strain', 'nanT', 'nanA', 'nanE-II', 'nanK', 'nanE', 'nagA', 'nagB', 'nagE/K', 'galK', 'galT', 'galE', 'pgmA', 'lacE', 'lacB', 'agaD/K', 'agaA', 'agaS', 'pfkA', 'kbaY', 'fucI', 'fucK', 'fucA', 'fucA1', 'fucB', 'fucD', 'fucH', 'fucO']\n",
    "suppDataHolder = []\n",
    "\n",
    "# Returns a new list to add to the suppDataHolder for an individual species\n",
    "def generateEmptyForSupp(strain):\n",
    "    toReturn = [strain]\n",
    "    for x in range(len(fullProtList) - 1):\n",
    "        toReturn.append('')\n",
    "    return toReturn"
   ]
  },
  {
   "cell_type": "code",
   "execution_count": 6,
   "id": "a4bcb0d8-c67e-42d9-b48c-15422ef892ad",
   "metadata": {
    "tags": []
   },
   "outputs": [],
   "source": [
    "# First, read through the metadata file and initialize all of the L. crispatus strains\n",
    "strainDict = {} #key=Accession number, value=Strain object\n",
    "metadata = pd.read_csv(analysisPath.joinpath('lcrispatus/strain_metadata.csv'))\n",
    "for index, row in metadata.iterrows():\n",
    "    strainDict[row['Assembly Accession']] = Strain(row)"
   ]
  },
  {
   "cell_type": "code",
   "execution_count": 7,
   "id": "41e89176-8d29-48c7-ac62-e0a2471fbb14",
   "metadata": {
    "tags": []
   },
   "outputs": [],
   "source": [
    "# Go through all the sequences for each strain. Pull out all of the proteins so I can make a BLAST-able database that retains strain information, and retrieve the cpn60 sequence for each strain.\n",
    "proteinDict = {} # key=amino acid sequence, value=protein object\n",
    "for assemblyFolder in analysisPath.joinpath('lcrispatus/sequence_data/').iterdir():\n",
    "    currentStrain = strainDict[assemblyFolder.name]\n",
    "    for file in assemblyFolder.iterdir():\n",
    "        if file.suffix == '.fna':\n",
    "            genes = parseFasta(file)\n",
    "            cpn60Found = False\n",
    "            for gene in genes:\n",
    "                if gene.lower().find('groel') != -1 or gene.lower().find('grol') != -1 or gene.lower().find('60 kda chaperonin') != -1:\n",
    "                    cpn60Found = True\n",
    "                    currentStrain.cpn60 = gene[gene.find('\\n') + 1:].replace('\\n', '')\n",
    "            if not cpn60Found:\n",
    "                print(currentStrain.id)\n",
    "        elif file.suffix == '.faa':\n",
    "            proteins = parseFasta(file)\n",
    "            for prot in proteins:\n",
    "                newProt = GlycanAnalysisProtein(prot)\n",
    "                if not newProt.sequence in proteinDict.keys():\n",
    "                    proteinDict[newProt.sequence] = newProt\n",
    "                proteinDict[newProt.sequence].addTaxa(currentStrain.id)\n",
    "                currentStrain.aaSeqs.add(newProt.sequence)"
   ]
  },
  {
   "cell_type": "code",
   "execution_count": 8,
   "id": "bb3cd08f-9623-4293-a429-082bfbd99723",
   "metadata": {},
   "outputs": [],
   "source": [
    "# Write out deduplicated proteins\n",
    "#toWrite = []\n",
    "#for prot in proteinDict.values():\n",
    "#    toWrite.append(prot.getEntry())\n",
    "#with analysisPath.joinpath('lcrispatus/deduplicated_Lcrispatus_proteins.fasta').open(mode='w', newline='') as outfile:\n",
    "#    outfile.write(''.join(toWrite))"
   ]
  },
  {
   "cell_type": "code",
   "execution_count": 9,
   "id": "a29db3f2-20d8-41ab-a97c-2cbbd8c1603a",
   "metadata": {
    "tags": []
   },
   "outputs": [],
   "source": [
    "# Write out all the cpn60 sequences. I'll have to manually add the ones for MV-1A-US, FB049-03, FB077-07, and EM-LC1\n",
    "#toWrite = []\n",
    "#for strain in strainDict.values():\n",
    "#    toWrite.append(f'>{strain.id} cpn60\\n{strain.cpn60}\\n')\n",
    "#with analysisPath.joinpath('cpn60_sequences.fasta').open(mode='w', newline='') as outfile:\n",
    "#    outfile.write(''.join(toWrite))"
   ]
  },
  {
   "cell_type": "code",
   "execution_count": 10,
   "id": "377f9d70-1313-4f63-b860-e81cef760f39",
   "metadata": {
    "tags": []
   },
   "outputs": [],
   "source": [
    "# I made the L. crispatus tree and organized them. Now I'll read back in the order in which the isolates appear on the tree\n",
    "order = []\n",
    "with analysisPath.joinpath('lcrispatus/tree_order.csv').open(mode='r', encoding='utf-8-sig') as infile:\n",
    "    reader = csv.reader(infile)\n",
    "    for row in reader:\n",
    "        order.append(row[0])"
   ]
  },
  {
   "cell_type": "code",
   "execution_count": 11,
   "id": "9fc79181-5d31-4993-8280-757cda3fa71c",
   "metadata": {
    "tags": []
   },
   "outputs": [],
   "source": [
    "# I performed BLASTp searches to identify homologs of metabolic proteins in the L. crispatus genomes. Load in those lists.\n",
    "filesDict = {\n",
    "    'nanT':analysisPath.joinpath('lcrispatus/homologs/homologs_nanT.csv'),\n",
    "    'nanA':analysisPath.joinpath('lcrispatus/homologs/homologs_nanA.csv'),\n",
    "    'nanK':analysisPath.joinpath('lcrispatus/homologs/homologs_nanK.csv'),\n",
    "    'nanE':analysisPath.joinpath('lcrispatus/homologs/homologs_nanE.csv'),\n",
    "    'nagA':analysisPath.joinpath('lcrispatus/homologs/homologs_nagA.csv'),\n",
    "    'nagB':analysisPath.joinpath('lcrispatus/homologs/homologs_nagB.csv'),\n",
    "    'nagE':analysisPath.joinpath('lcrispatus/homologs/homologs_nagE.csv'),\n",
    "    'nagK':analysisPath.joinpath('lcrispatus/homologs/homologs_nagK.csv'),\n",
    "    'galK':analysisPath.joinpath('lcrispatus/homologs/homologs_galK.csv'),\n",
    "    'galT':analysisPath.joinpath('lcrispatus/homologs/homologs_galT.csv'),\n",
    "    'galE':analysisPath.joinpath('lcrispatus/homologs/homologs_galE.csv'),\n",
    "    'pgmA':analysisPath.joinpath('lcrispatus/homologs/homologs_pgmA.csv'),\n",
    "    'agaK':analysisPath.joinpath('lcrispatus/homologs/homologs_agaK.csv'),\n",
    "    'agaD':analysisPath.joinpath('lcrispatus/homologs/homologs_agaD.csv'),\n",
    "    'agaA':analysisPath.joinpath('lcrispatus/homologs/homologs_agaA.csv'),\n",
    "    'agaS':analysisPath.joinpath('lcrispatus/homologs/homologs_agaS.csv'),\n",
    "    'pfkA':analysisPath.joinpath('lcrispatus/homologs/homologs_pfkA.csv'),\n",
    "    'kbaY':analysisPath.joinpath('lcrispatus/homologs/homologs_kbaY.csv'),\n",
    "    'fucI':analysisPath.joinpath('lcrispatus/homologs/homologs_fucI.csv'),\n",
    "    'fucK':analysisPath.joinpath('lcrispatus/homologs/homologs_fucK.csv'),\n",
    "    'fucA':analysisPath.joinpath('lcrispatus/homologs/homologs_fucA.csv')\n",
    "}\n",
    "homologsDict = {} #key=protein name, value=list of homologous protein IDs\n",
    "for proteinName, filePath in filesDict.items():\n",
    "    homologsDict[proteinName] = loadHomologs(filePath)\n",
    "homologsDict = combineHomologs(homologsDict, 'nagE/K', ['nagE', 'nagK'])\n",
    "homologsDict = combineHomologs(homologsDict, 'agaD/K', ['agaD', 'agaK'])\n",
    "protOrder = ['nanT', 'nanA', 'nanK', 'nanE', 'nagA', 'nagB', 'nagE/K', 'galK', 'galT', 'galE', 'pgmA', 'agaD/K', 'agaA', 'agaS', 'pfkA', 'kbaY', 'fucI', 'fucK', 'fucA']"
   ]
  },
  {
   "cell_type": "code",
   "execution_count": 12,
   "id": "41f6bf88-9715-4bd7-8dc0-2f8b936bde1d",
   "metadata": {
    "tags": []
   },
   "outputs": [],
   "source": [
    "# Get the amino acid sequences of all the protein homologs so I can look for them in the L. crispatus strains\n",
    "aaDict = {}\n",
    "for proteinName in homologsDict.keys():\n",
    "    aaDict[proteinName] = set()\n",
    "for protein in proteinDict.values():\n",
    "    for key, homologList in homologsDict.items():\n",
    "        if protein.id in homologsDict[key]:\n",
    "            aaDict[key].add(protein.sequence)"
   ]
  },
  {
   "cell_type": "code",
   "execution_count": 13,
   "id": "e34f0166-b4af-4b10-ac76-19b30181de80",
   "metadata": {
    "tags": []
   },
   "outputs": [],
   "source": [
    "# Get whether the isolates have one of each homolog, in the tree order\n",
    "homologStatus = {'strain':[]}\n",
    "for proteinName in protOrder:\n",
    "    homologStatus[proteinName] = []\n",
    "for strain in order:\n",
    "    for lCrispatus in strainDict.values():\n",
    "        if lCrispatus.id == strain:\n",
    "            listForStrain = generateEmptyForSupp(lCrispatus.id)\n",
    "            homologStatus['strain'].append(strain)\n",
    "            for proteinName in homologsDict.keys():\n",
    "                protPresent = '-'\n",
    "                for seq in aaDict[proteinName]:\n",
    "                    if seq in lCrispatus.aaSeqs:\n",
    "                        protPresent = '+'\n",
    "                        listForStrain[fullProtList.index(proteinName)] = proteinDict[seq].id\n",
    "                homologStatus[proteinName].append(protPresent)\n",
    "            suppDataHolder.append(listForStrain)"
   ]
  },
  {
   "cell_type": "code",
   "execution_count": 65,
   "id": "6760f8d7-4388-4a15-8f58-9aaacd46f6da",
   "metadata": {
    "tags": []
   },
   "outputs": [],
   "source": [
    "pd.DataFrame(homologStatus).to_csv(analysisPath.joinpath('lcrispatus/Lcrispatus_homolog_summary_v2.csv'), index=False)"
   ]
  },
  {
   "cell_type": "code",
   "execution_count": 14,
   "id": "e030b9e7-d10b-4665-9d3e-86a7d27886f6",
   "metadata": {
    "tags": []
   },
   "outputs": [],
   "source": [
    "### Repeat the analysis for Gardnerella proteins\n",
    "# First, read through the metadata file and initialize all of the Gardnerella strains\n",
    "strainDict = {} #key=Accession number, value=Strain object\n",
    "metadata = pd.read_csv(analysisPath.joinpath('gardnerella/gardnerella_metadata.csv'))\n",
    "for index, row in metadata.iterrows():\n",
    "    strainDict[row['Assembly Accession']] = Strain(row)"
   ]
  },
  {
   "cell_type": "code",
   "execution_count": 15,
   "id": "11555742-6ebb-4608-bb9f-8582c02c8b6c",
   "metadata": {
    "tags": []
   },
   "outputs": [],
   "source": [
    "# Go through all the sequences for each strain. Pull out all of the proteins so I can make a BLAST-able database that retains strain information, and retrieve the cpn60 sequence for each strain.\n",
    "proteinDict = {} # key=amino acid sequence, value=protein object\n",
    "for assemblyFolder in analysisPath.joinpath('gardnerella/sequence_data/').iterdir():\n",
    "    currentStrain = strainDict[assemblyFolder.name]\n",
    "    for file in assemblyFolder.iterdir():\n",
    "        if file.suffix == '.fna':\n",
    "            genes = parseFasta(file)\n",
    "            cpn60Found = False\n",
    "            for gene in genes:\n",
    "                if gene.lower().find('groel') != -1 or gene.lower().find('grol') != -1 or gene.lower().find('60 kda chaperonin') != -1:\n",
    "                    cpn60Found = True\n",
    "                    currentStrain.cpn60 = gene[gene.find('\\n') + 1:].replace('\\n', '')\n",
    "            if not cpn60Found:\n",
    "                print(currentStrain.id)\n",
    "        elif file.suffix == '.faa':\n",
    "            proteins = parseFasta(file)\n",
    "            for prot in proteins:\n",
    "                newProt = GlycanAnalysisProtein(prot)\n",
    "                if not newProt.sequence in proteinDict.keys():\n",
    "                    proteinDict[newProt.sequence] = newProt\n",
    "                proteinDict[newProt.sequence].addTaxa(currentStrain.id)\n",
    "                currentStrain.aaSeqs.add(newProt.sequence)"
   ]
  },
  {
   "cell_type": "code",
   "execution_count": 16,
   "id": "f3da998f-03f7-418b-957d-fec84627def0",
   "metadata": {},
   "outputs": [],
   "source": [
    "# Write out deduplicated proteins\n",
    "#toWrite = []\n",
    "#for prot in proteinDict.values():\n",
    "#    toWrite.append(prot.getEntry())\n",
    "#with analysisPath.joinpath('gardnerella/deduplicated_gardnerella_proteins.fasta').open(mode='w', newline='') as outfile:\n",
    "#    outfile.write(''.join(toWrite))"
   ]
  },
  {
   "cell_type": "code",
   "execution_count": 17,
   "id": "3d1c6e42-0bff-4753-87aa-3f98f3a32ab3",
   "metadata": {
    "tags": []
   },
   "outputs": [],
   "source": [
    "# Write out all the cpn60 sequences\n",
    "#toWrite = []\n",
    "#for strain in strainDict.values():\n",
    "#    if strain.cpn60 == '':\n",
    "#        print(strain.id)\n",
    "#    name = strain.name.replace(' ', '_')\n",
    "#    toWrite.append(f'>{name}_{strain.id.replace(\" \", \"_\")} cpn60\\n{strain.cpn60}\\n')\n",
    "#with analysisPath.joinpath('gardnerella/cpn60_sequences.fasta').open(mode='w', newline='') as outfile:\n",
    "#    outfile.write(''.join(toWrite))"
   ]
  },
  {
   "cell_type": "code",
   "execution_count": 18,
   "id": "19fd1942-daee-44ea-8cb0-05f03ae5b9e6",
   "metadata": {
    "tags": []
   },
   "outputs": [],
   "source": [
    "# I made the Gardnerella tree and organized them. Now I'll read back in the order in which the isolates appear on the tree\n",
    "order = []\n",
    "with analysisPath.joinpath('gardnerella/tree_order.csv').open(mode='r', encoding='utf-8-sig') as infile:\n",
    "    reader = csv.reader(infile)\n",
    "    for row in reader:\n",
    "        order.append(row[0])"
   ]
  },
  {
   "cell_type": "code",
   "execution_count": 19,
   "id": "cd4f5f61-568e-45e8-860c-0507e2f08b0f",
   "metadata": {
    "tags": []
   },
   "outputs": [],
   "source": [
    "# I performed a BLASTp searches to identify homologs of metabolic proteins in the Gardnerella. Load in those lists.\n",
    "filesDict = {\n",
    "    'nanA':analysisPath.joinpath('gardnerella/homologs/homologs_nanA.csv'),\n",
    "    'nanK':analysisPath.joinpath('gardnerella/homologs/homologs_nanK.csv'),\n",
    "    'nanE':analysisPath.joinpath('gardnerella/homologs/homologs_nanE.csv'),\n",
    "    'nagA':analysisPath.joinpath('gardnerella/homologs/homologs_nagA.csv'),\n",
    "    'nagB':analysisPath.joinpath('gardnerella/homologs/homologs_nagB.csv'),\n",
    "    'nagE':analysisPath.joinpath('gardnerella/homologs/homologs_nagE.csv'),\n",
    "    'nagK':analysisPath.joinpath('gardnerella/homologs/homologs_nagK.csv'),\n",
    "    'galK':analysisPath.joinpath('gardnerella/homologs/homologs_galK.csv'),\n",
    "    'galT':analysisPath.joinpath('gardnerella/homologs/homologs_galT.csv'),\n",
    "    'galE':analysisPath.joinpath('gardnerella/homologs/homologs_galE.csv'),\n",
    "    'pgmA':analysisPath.joinpath('gardnerella/homologs/homologs_pgmA.csv'),\n",
    "    'agaK':analysisPath.joinpath('gardnerella/homologs/homologs_agaK.csv'),\n",
    "    'agaD':analysisPath.joinpath('gardnerella/homologs/homologs_agaD.csv'),\n",
    "    'agaA':analysisPath.joinpath('gardnerella/homologs/homologs_agaA.csv'),\n",
    "    'agaS':analysisPath.joinpath('gardnerella/homologs/homologs_agaS.csv'),\n",
    "    'pfkA':analysisPath.joinpath('gardnerella/homologs/homologs_pfkA.csv'),\n",
    "    'kbaY':analysisPath.joinpath('gardnerella/homologs/homologs_kbaY.csv'),\n",
    "    'fucA1':analysisPath.joinpath('gardnerella/homologs/homologs_fucA.csv'),\n",
    "    'fucB':analysisPath.joinpath('gardnerella/homologs/homologs_fucB.csv'),\n",
    "    'fucD':analysisPath.joinpath('gardnerella/homologs/homologs_fucD.csv'),\n",
    "    'fucH':analysisPath.joinpath('gardnerella/homologs/homologs_fucH.csv'),\n",
    "    'fucO':analysisPath.joinpath('gardnerella/homologs/homologs_fucO.csv')\n",
    "}\n",
    "homologsDict = {} #key=protein name, value=list of homologous protein IDs\n",
    "for proteinName, filePath in filesDict.items():\n",
    "    homologsDict[proteinName] = loadHomologs(filePath)\n",
    "homologsDict = combineHomologs(homologsDict, 'nagE/K', ['nagE', 'nagK'])\n",
    "homologsDict = combineHomologs(homologsDict, 'agaD/K', ['agaD', 'agaK'])\n",
    "protOrder = ['nanA', 'nanK', 'nanE', 'nagA', 'nagB', 'nagE/K', 'galK', 'galT', 'galE', 'pgmA', 'agaD/K', 'agaA', 'agaS', 'pfkA', 'kbaY', 'fucA1', 'fucB', 'fucD', 'fucH', 'fucO']"
   ]
  },
  {
   "cell_type": "code",
   "execution_count": 20,
   "id": "11f8a9df-9bcf-4e0e-98e4-cb4a7ee50c81",
   "metadata": {
    "tags": []
   },
   "outputs": [],
   "source": [
    "# Get the amino acid sequences of all the protein homologs so I can look for them in the Gardnerella strains\n",
    "aaDict = {}\n",
    "for proteinName in homologsDict.keys():\n",
    "    aaDict[proteinName] = set()\n",
    "for protein in proteinDict.values():\n",
    "    for key, homologList in homologsDict.items():\n",
    "        if protein.id in homologsDict[key]:\n",
    "            aaDict[key].add(protein.sequence)"
   ]
  },
  {
   "cell_type": "code",
   "execution_count": 21,
   "id": "03a982c4-1ba3-4c1a-83a4-9dcb2b295b04",
   "metadata": {
    "tags": []
   },
   "outputs": [],
   "source": [
    "# Get whether the isolates have one of each homolog, in the tree order\n",
    "homologStatus = {'species':[], 'strain':[]}\n",
    "for proteinName in protOrder:\n",
    "    homologStatus[proteinName] = []\n",
    "for strain in order:\n",
    "    for isolate in strainDict.values():\n",
    "        if isolate.id == strain:\n",
    "            listForStrain = generateEmptyForSupp(isolate.id)\n",
    "            homologStatus['strain'].append(strain)\n",
    "            homologStatus['species'].append(isolate.name)\n",
    "            for proteinName in homologsDict.keys():\n",
    "                protPresent = '-'\n",
    "                for seq in aaDict[proteinName]:\n",
    "                    if seq in isolate.aaSeqs:\n",
    "                        protPresent = '+'\n",
    "                        listForStrain[fullProtList.index(proteinName)] = proteinDict[seq].id\n",
    "                homologStatus[proteinName].append(protPresent)\n",
    "            suppDataHolder.append(listForStrain)"
   ]
  },
  {
   "cell_type": "code",
   "execution_count": 27,
   "id": "8920448a-4035-4a91-b7bb-59f1adb62e95",
   "metadata": {
    "tags": []
   },
   "outputs": [],
   "source": [
    "pd.DataFrame(homologStatus).to_csv(analysisPath.joinpath('gardnerella/gardnerella_homolog_summary_v2.csv'), index=False)"
   ]
  },
  {
   "cell_type": "code",
   "execution_count": 22,
   "id": "5e1cd049-2ce2-4c44-90da-586e21f0bacd",
   "metadata": {
    "tags": []
   },
   "outputs": [],
   "source": [
    "### Repeat the analysis for Prevotella\n",
    "# First, read through the metadata file and initialize all of the Gardnerella strains\n",
    "strainDict = {} #key=Accession number, value=Strain object\n",
    "metadata = pd.read_csv(analysisPath.joinpath('prevotella/prevotella_metadata.csv'))\n",
    "for index, row in metadata.iterrows():\n",
    "    strainDict[row['Assembly Accession']] = Strain(row)"
   ]
  },
  {
   "cell_type": "code",
   "execution_count": 23,
   "id": "22400446-f23e-4b11-ba0c-ee6f8df80a90",
   "metadata": {
    "tags": []
   },
   "outputs": [],
   "source": [
    "# Go through all the sequences for each strain. Pull out all of the proteins so I can make a BLAST-able database that retains strain information, and retrieve the cpn60 sequence for each strain.\n",
    "proteinDict = {} # key=amino acid sequence, value=protein object\n",
    "for assemblyFolder in analysisPath.joinpath('prevotella/sequence_data/').iterdir():\n",
    "    currentStrain = strainDict[assemblyFolder.name]\n",
    "    for file in assemblyFolder.iterdir():\n",
    "        if file.suffix == '.fna':\n",
    "            genes = parseFasta(file)\n",
    "            cpn60Found = False\n",
    "            for gene in genes:\n",
    "                if gene.lower().find('groel') != -1 or gene.lower().find('grol') != -1 or gene.lower().find('60 kda chaperonin') != -1:\n",
    "                    cpn60Found = True\n",
    "                    currentStrain.cpn60 = gene[gene.find('\\n') + 1:].replace('\\n', '')\n",
    "            if not cpn60Found:\n",
    "                print(f'{currentStrain.id}: {currentStrain.accession}')\n",
    "        elif file.suffix == '.faa':\n",
    "            proteins = parseFasta(file)\n",
    "            for prot in proteins:\n",
    "                newProt = GlycanAnalysisProtein(prot)\n",
    "                if not newProt.sequence in proteinDict.keys():\n",
    "                    proteinDict[newProt.sequence] = newProt\n",
    "                proteinDict[newProt.sequence].addTaxa(currentStrain.id)\n",
    "                currentStrain.aaSeqs.add(newProt.sequence)"
   ]
  },
  {
   "cell_type": "code",
   "execution_count": 24,
   "id": "38f39e80-f798-4ca1-b896-0c884940d0e3",
   "metadata": {},
   "outputs": [],
   "source": [
    "# Write out deduplicated proteins\n",
    "#toWrite = []\n",
    "#for prot in proteinDict.values():\n",
    "#    toWrite.append(prot.getEntry())\n",
    "#with analysisPath.joinpath('prevotella/deduplicated_prevotella_proteins.fasta').open(mode='w', newline='') as outfile:\n",
    "#    outfile.write(''.join(toWrite))"
   ]
  },
  {
   "cell_type": "code",
   "execution_count": 25,
   "id": "127eeee3-42ed-44ad-be90-d97144a978f0",
   "metadata": {
    "tags": []
   },
   "outputs": [],
   "source": [
    "# Write out all the cpn60 sequences\n",
    "#toWrite = []\n",
    "#for strain in strainDict.values():\n",
    "#    if strain.cpn60 == '':\n",
    "#        print(strain.id)\n",
    "#    name = strain.name.replace(' ', '_')\n",
    "#    toWrite.append(f'>{name}_{strain.id.replace(\" \", \"_\")} cpn60\\n{strain.cpn60}\\n')\n",
    "#with analysisPath.joinpath('prevotella/prevotella_cpn60_sequences.fasta').open(mode='w', newline='') as outfile:\n",
    "#    outfile.write(''.join(toWrite))"
   ]
  },
  {
   "cell_type": "code",
   "execution_count": 26,
   "id": "a53fded8-c403-4d6a-88c0-020617f61ec5",
   "metadata": {
    "tags": []
   },
   "outputs": [],
   "source": [
    "# I made the Prevotella tree and organized them. Now I'll read back in the order in which the isolates appear on the tree\n",
    "order = []\n",
    "with analysisPath.joinpath('prevotella/tree_order.csv').open(mode='r', encoding='utf-8-sig') as infile:\n",
    "    reader = csv.reader(infile)\n",
    "    for row in reader:\n",
    "        order.append(row[0])"
   ]
  },
  {
   "cell_type": "code",
   "execution_count": 27,
   "id": "da330df6-6c15-4f79-b88a-f5f7afbc5813",
   "metadata": {
    "tags": []
   },
   "outputs": [],
   "source": [
    "# I performed a BLASTp searches to identify homologs of metabolic proteins in the Prevotellaceae genomes. Load in those lists.\n",
    "filesDict = {\n",
    "    'nanA':analysisPath.joinpath('prevotella/homologs/homologs_nanA.csv'),\n",
    "    'nanE-II':analysisPath.joinpath('prevotella/homologs/homologs_nanE2.csv'),\n",
    "    'nagA':analysisPath.joinpath('prevotella/homologs/homologs_nagA.csv'),\n",
    "    'nagB':analysisPath.joinpath('prevotella/homologs/homologs_nagB.csv'),\n",
    "    'nagE':analysisPath.joinpath('prevotella/homologs/homologs_nagE.csv'),\n",
    "    'nagK':analysisPath.joinpath('prevotella/homologs/homologs_nagK.csv'),\n",
    "    'galK':analysisPath.joinpath('prevotella/homologs/homologs_galK.csv'),\n",
    "    'galT':analysisPath.joinpath('prevotella/homologs/homologs_galT.csv'),\n",
    "    'galE':analysisPath.joinpath('prevotella/homologs/homologs_galE.csv'),\n",
    "    'pgmA':analysisPath.joinpath('prevotella/homologs/homologs_pgmA.csv'),\n",
    "    'agaK':analysisPath.joinpath('prevotella/homologs/homologs_agaK.csv'),\n",
    "    'agaD':analysisPath.joinpath('prevotella/homologs/homologs_agaD.csv'),\n",
    "    'agaA':analysisPath.joinpath('prevotella/homologs/homologs_agaA.csv'),\n",
    "    'agaS':analysisPath.joinpath('prevotella/homologs/homologs_agaS.csv'),\n",
    "    'pfkA':analysisPath.joinpath('prevotella/homologs/homologs_pfkA.csv'),\n",
    "    'kbaY':analysisPath.joinpath('prevotella/homologs/homologs_kbaY.csv'),\n",
    "    'fucI':analysisPath.joinpath('prevotella/homologs/homologs_fucI.csv'),\n",
    "    'fucK':analysisPath.joinpath('prevotella/homologs/homologs_fucK.csv'),\n",
    "    'fucA':analysisPath.joinpath('prevotella/homologs/homologs_fucA.csv')\n",
    "}\n",
    "homologsDict = {} #key=protein name, value=list of homologous protein IDs\n",
    "for proteinName, filePath in filesDict.items():\n",
    "    homologsDict[proteinName] = loadHomologs(filePath)\n",
    "homologsDict = combineHomologs(homologsDict, 'nagE/K', ['nagE', 'nagK'])\n",
    "homologsDict = combineHomologs(homologsDict, 'agaD/K', ['agaD', 'agaK'])\n",
    "protOrder = ['nanA', 'nanE-II', 'nagA', 'nagB', 'nagE/K', 'galK', 'galT', 'galE', 'pgmA', 'agaD/K', 'agaA', 'agaS', 'pfkA', 'kbaY', 'fucI', 'fucK', 'fucA']"
   ]
  },
  {
   "cell_type": "code",
   "execution_count": 28,
   "id": "9babd314-17e5-4b5b-a63b-8ea67e74adad",
   "metadata": {
    "tags": []
   },
   "outputs": [],
   "source": [
    "# Get the amino acid sequences of all the protein homologs so I can look for them in the Prevotella strains\n",
    "aaDict = {}\n",
    "for proteinName in homologsDict.keys():\n",
    "    aaDict[proteinName] = set()\n",
    "for protein in proteinDict.values():\n",
    "    for key, homologList in homologsDict.items():\n",
    "        if protein.id in homologsDict[key]:\n",
    "            aaDict[key].add(protein.sequence)"
   ]
  },
  {
   "cell_type": "code",
   "execution_count": 29,
   "id": "309eb1e8-4b78-420b-a307-03dc8a539832",
   "metadata": {
    "tags": []
   },
   "outputs": [],
   "source": [
    "# Get whether the isolates have one of each homolog, in the tree order\n",
    "homologStatus = {'species':[], 'strain':[]}\n",
    "for proteinName in protOrder:\n",
    "    homologStatus[proteinName] = []\n",
    "for strain in order:\n",
    "    for isolate in strainDict.values():\n",
    "        if isolate.id == strain:\n",
    "            listForStrain = generateEmptyForSupp(isolate.id)\n",
    "            homologStatus['strain'].append(strain)\n",
    "            homologStatus['species'].append(isolate.name)\n",
    "            for proteinName in homologsDict.keys():\n",
    "                protPresent = '-'\n",
    "                for seq in aaDict[proteinName]:\n",
    "                    if seq in isolate.aaSeqs:\n",
    "                        protPresent = '+'\n",
    "                        listForStrain[fullProtList.index(proteinName)] = proteinDict[seq].id\n",
    "                homologStatus[proteinName].append(protPresent)\n",
    "            suppDataHolder.append(listForStrain)"
   ]
  },
  {
   "cell_type": "code",
   "execution_count": 17,
   "id": "2c339c18-2d9b-4425-8172-ee2b4ff30be1",
   "metadata": {
    "tags": []
   },
   "outputs": [],
   "source": [
    "pd.DataFrame(homologStatus).to_csv(analysisPath.joinpath('prevotella/prevotella_homolog_summary_v2.csv'), index=False)"
   ]
  },
  {
   "cell_type": "code",
   "execution_count": 30,
   "id": "bd8fded4-aa44-4ab8-bd39-0c847affe802",
   "metadata": {
    "tags": []
   },
   "outputs": [],
   "source": [
    "### Rerun the analysis for other species of Lactobacillus - iners, gasseri, & jensenii\n",
    "strainDict = {} #key=Accession number, value=Strain object\n",
    "metadata = pd.read_csv(analysisPath.joinpath('lactobacilli/lactobacilli_metadata.csv'))\n",
    "for index, row in metadata.iterrows():\n",
    "    strainDict[row['Assembly Accession']] = Strain(row)"
   ]
  },
  {
   "cell_type": "code",
   "execution_count": 31,
   "id": "c8e647ab-1473-4ff2-bbfe-8d743dd78c47",
   "metadata": {
    "tags": []
   },
   "outputs": [],
   "source": [
    "# Go through all the sequences for each strain. Pull out all of the proteins so I can make a BLAST-able database that retains strain information, and retrieve the cpn60 sequence for each strain.\n",
    "proteinDict = {} # key=amino acid sequence, value=protein object\n",
    "for assemblyFolder in analysisPath.joinpath('lactobacilli/sequence_data/').iterdir():\n",
    "    currentStrain = strainDict[assemblyFolder.name]\n",
    "    for file in assemblyFolder.iterdir():\n",
    "        if file.suffix == '.fna':\n",
    "            genes = parseFasta(file)\n",
    "            cpn60Found = False\n",
    "            for gene in genes:\n",
    "                if gene.lower().find('groel') != -1 or gene.lower().find('grol') != -1 or gene.lower().find('60 kda chaperonin') != -1:\n",
    "                    cpn60Found = True\n",
    "                    currentStrain.cpn60 = gene[gene.find('\\n') + 1:].replace('\\n', '')\n",
    "            if not cpn60Found:\n",
    "                print(currentStrain.id)\n",
    "        elif file.suffix == '.faa':\n",
    "            proteins = parseFasta(file)\n",
    "            for prot in proteins:\n",
    "                newProt = GlycanAnalysisProtein(prot)\n",
    "                if not newProt.sequence in proteinDict.keys():\n",
    "                    proteinDict[newProt.sequence] = newProt\n",
    "                proteinDict[newProt.sequence].addTaxa(currentStrain.id)\n",
    "                currentStrain.aaSeqs.add(newProt.sequence)"
   ]
  },
  {
   "cell_type": "code",
   "execution_count": 32,
   "id": "067168cd-66cf-4c95-80fd-abe959ae70ea",
   "metadata": {},
   "outputs": [],
   "source": [
    "# Write out deduplicated proteins\n",
    "#toWrite = []\n",
    "#for prot in proteinDict.values():\n",
    "#    toWrite.append(prot.getEntry())\n",
    "#with analysisPath.joinpath('lactobacilli/deduplicated_lactobacillus_proteins.fasta').open(mode='w', newline='') as outfile:\n",
    "#    outfile.write(''.join(toWrite))"
   ]
  },
  {
   "cell_type": "code",
   "execution_count": 33,
   "id": "87a4c57d-f2a6-4938-9bdd-7400de867979",
   "metadata": {
    "tags": []
   },
   "outputs": [],
   "source": [
    "# Write out all the cpn60 sequences\n",
    "#toWrite = []\n",
    "#for strain in strainDict.values():\n",
    "#    toWrite.append(f'>{strain.id} cpn60\\n{strain.cpn60}\\n')\n",
    "#with analysisPath.joinpath('lactobacilli/lactobacilli_cpn60_sequences.fasta').open(mode='w', newline='') as outfile:\n",
    "#    outfile.write(''.join(toWrite))"
   ]
  },
  {
   "cell_type": "code",
   "execution_count": 34,
   "id": "09298f3b-03d5-424e-ba37-433425050a15",
   "metadata": {
    "tags": []
   },
   "outputs": [],
   "source": [
    "# I made the Lactobacilli tree and organized them. Now I'll read back in the order in which the isolates appear on the tree\n",
    "order = []\n",
    "with analysisPath.joinpath('lactobacilli/tree_order.csv').open(mode='r', encoding='utf-8-sig') as infile:\n",
    "    reader = csv.reader(infile)\n",
    "    for row in reader:\n",
    "        order.append(row[0])"
   ]
  },
  {
   "cell_type": "code",
   "execution_count": 35,
   "id": "693808d6-f053-46db-8b8a-289575171917",
   "metadata": {
    "tags": []
   },
   "outputs": [],
   "source": [
    "# I performed a BLASTp searches to identify homologs of metabolic proteins in the Lactobacillus genomes. Load in those lists.\n",
    "filesDict = {\n",
    "    'nanA':analysisPath.joinpath('lactobacilli/homologs/homologs_nanA.csv'),\n",
    "    'nanK':analysisPath.joinpath('lactobacilli/homologs/homologs_nanK.csv'),\n",
    "    'nanE':analysisPath.joinpath('lactobacilli/homologs/homologs_nanE.csv'),\n",
    "    'nagA':analysisPath.joinpath('lactobacilli/homologs/homologs_nagA.csv'),\n",
    "    'nagB':analysisPath.joinpath('lactobacilli/homologs/homologs_nagB.csv'),\n",
    "    'nagE':analysisPath.joinpath('lactobacilli/homologs/homologs_nagE.csv'),\n",
    "    'nagK':analysisPath.joinpath('lactobacilli/homologs/homologs_nagK.csv'),\n",
    "    'galK':analysisPath.joinpath('lactobacilli/homologs/homologs_galK.csv'),\n",
    "    'galT':analysisPath.joinpath('lactobacilli/homologs/homologs_galT.csv'),\n",
    "    'galE':analysisPath.joinpath('lactobacilli/homologs/homologs_galE.csv'),\n",
    "    'pgmA':analysisPath.joinpath('lactobacilli/homologs/homologs_pgmA.csv'),\n",
    "    'lacE':analysisPath.joinpath('lactobacilli/homologs/homologs_lacE.csv'),\n",
    "    'lacB':analysisPath.joinpath('lactobacilli/homologs/homologs_lacB.csv'),\n",
    "    'agaK':analysisPath.joinpath('lactobacilli/homologs/homologs_agaK.csv'),\n",
    "    'agaD':analysisPath.joinpath('lactobacilli/homologs/homologs_agaD.csv'),\n",
    "    'agaA':analysisPath.joinpath('lactobacilli/homologs/homologs_agaA.csv'),\n",
    "    'agaS':analysisPath.joinpath('lactobacilli/homologs/homologs_agaS.csv'),\n",
    "    'pfkA':analysisPath.joinpath('lactobacilli/homologs/homologs_pfkA.csv'),\n",
    "    'kbaY':analysisPath.joinpath('lactobacilli/homologs/homologs_kbaY.csv'),\n",
    "    'fucI':analysisPath.joinpath('lactobacilli/homologs/homologs_fucI.csv'),\n",
    "    'fucK':analysisPath.joinpath('lactobacilli/homologs/homologs_fucK.csv'),\n",
    "    'fucA':analysisPath.joinpath('lactobacilli/homologs/homologs_fucA.csv')\n",
    "}\n",
    "homologsDict = {} #key=protein name, value=list of homologous protein IDs\n",
    "for proteinName, filePath in filesDict.items():\n",
    "    homologsDict[proteinName] = loadHomologs(filePath)\n",
    "homologsDict = combineHomologs(homologsDict, 'nagE/K', ['nagE', 'nagK'])\n",
    "homologsDict = combineHomologs(homologsDict, 'agaD/K', ['agaD', 'agaK'])\n",
    "protOrder = ['nanA', 'nanK', 'nanE', 'nagA', 'nagB', 'nagE/K', 'galK', 'galT', 'galE', 'pgmA', 'lacE', 'lacB', 'pfkA', 'kbaY', 'agaD/K', 'agaA', 'agaS', 'fucI', 'fucK', 'fucA']"
   ]
  },
  {
   "cell_type": "code",
   "execution_count": 36,
   "id": "0c9bbfb5-2ae2-4855-9472-de07de78ad6d",
   "metadata": {
    "tags": []
   },
   "outputs": [],
   "source": [
    "# Get the amino acid sequences of all the protein homologs so I can look for them in the Lactobacillus strains\n",
    "aaDict = {}\n",
    "for proteinName in homologsDict.keys():\n",
    "    aaDict[proteinName] = set()\n",
    "for protein in proteinDict.values():\n",
    "    for key, homologList in homologsDict.items():\n",
    "        if protein.id in homologsDict[key]:\n",
    "            aaDict[key].add(protein.sequence)"
   ]
  },
  {
   "cell_type": "code",
   "execution_count": 37,
   "id": "5c792da3-862c-43cb-861f-71de2d6a39a9",
   "metadata": {
    "tags": []
   },
   "outputs": [],
   "source": [
    "# Get whether the isolates have one of each homolog, in the tree order\n",
    "homologStatus = {'species':[], 'strain':[]}\n",
    "for proteinName in protOrder:\n",
    "    homologStatus[proteinName] = []\n",
    "for strain in order:\n",
    "    for isolate in strainDict.values():\n",
    "        if isolate.id == strain:\n",
    "            listForStrain = generateEmptyForSupp(isolate.id)\n",
    "            homologStatus['strain'].append(strain)\n",
    "            homologStatus['species'].append(isolate.name)\n",
    "            for proteinName in homologsDict.keys():\n",
    "                protPresent = '-'\n",
    "                for seq in aaDict[proteinName]:\n",
    "                    if seq in isolate.aaSeqs:\n",
    "                        protPresent = '+'\n",
    "                        listForStrain[fullProtList.index(proteinName)] = proteinDict[seq].id\n",
    "                homologStatus[proteinName].append(protPresent)\n",
    "            suppDataHolder.append(listForStrain)"
   ]
  },
  {
   "cell_type": "code",
   "execution_count": 49,
   "id": "8c7637d6-b767-4c48-896b-a01b95922919",
   "metadata": {
    "tags": []
   },
   "outputs": [],
   "source": [
    "pd.DataFrame(homologStatus).to_csv(analysisPath.joinpath('lactobacilli/lactobacilli_homolog_summary_v2.csv'), index=False)"
   ]
  },
  {
   "cell_type": "code",
   "execution_count": 38,
   "id": "ad16d9d4-d719-46c0-9972-5d8bc2e96da0",
   "metadata": {
    "tags": []
   },
   "outputs": [],
   "source": [
    "### Write out the IDs of each isolate's homologs to a csv file\n",
    "with analysisPath.joinpath('glycan_metabolic_homologs.csv').open(mode='w', newline='', encoding='utf-8') as outfile:\n",
    "    writer = csv.writer(outfile)\n",
    "    writer.writerow(fullProtList)\n",
    "    for row in suppDataHolder:\n",
    "        writer.writerow(row)"
   ]
  }
 ],
 "metadata": {
  "kernelspec": {
   "display_name": "Python 3 (ipykernel)",
   "language": "python",
   "name": "python3"
  },
  "language_info": {
   "codemirror_mode": {
    "name": "ipython",
    "version": 3
   },
   "file_extension": ".py",
   "mimetype": "text/x-python",
   "name": "python",
   "nbconvert_exporter": "python",
   "pygments_lexer": "ipython3",
   "version": "3.10.7"
  }
 },
 "nbformat": 4,
 "nbformat_minor": 5
}
